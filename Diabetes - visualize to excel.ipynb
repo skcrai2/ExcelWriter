{
 "cells": [
  {
   "cell_type": "code",
   "execution_count": 28,
   "id": "1aea04f1",
   "metadata": {},
   "outputs": [],
   "source": [
    "import pandas as pd\n",
    "import numpy as np"
   ]
  },
  {
   "cell_type": "code",
   "execution_count": 27,
   "id": "f45afd58",
   "metadata": {},
   "outputs": [],
   "source": [
    "df = pd.DataFrame(pd.read_csv(\"/diabetes.csv\"))\n",
    "writer = pd.ExcelWriter('diabetes.xlsx', engine='xlsxwriter')\n",
    "df.to_excel(writer, sheet_name='Sheet1', startrow=2)"
   ]
  },
  {
   "cell_type": "code",
   "execution_count": 29,
   "id": "0c9da2c1",
   "metadata": {},
   "outputs": [],
   "source": [
    "book = writer.book\n",
    "sheet = writer.sheets['Sheet1']\n",
    "\n",
    "# Title\n",
    "bold = book.add_format({'bold': True, 'size': 24})\n",
    "sheet.write('A1', 'Diabetes', bold)\n",
    "format1 = book.add_format({'font_color': '#E93423'})\n",
    "sheet.conditional_format('B4:E8', {'type': 'cell', 'criteria': '<=', 'value': 0, 'format': format1})\n",
    "\n",
    "# Bar Chart\n",
    "chart = book.add_chart({'type': 'column'})\n",
    "chart.add_series({'values': '=Sheet1!B4:B90', 'name': '=Sheet1!B3', 'categories': '=Sheet1!$A$4:$A$90'})\n",
    "chart.add_series({'values': '=Sheet1!C4:C90', 'name': '=Sheet1!C3'})\n",
    "chart.add_series({'values': '=Sheet1!D4:D90', 'name': '=Sheet1!D3'})\n",
    "chart.add_series({'values': '=Sheet1!E4:E90', 'name': '=Sheet1!E3'})\n",
    "sheet.insert_chart('K2', chart)\n",
    "\n",
    "# Scatter Chart\n",
    "chart = book.add_chart({'type': 'scatter'})\n",
    "chart.add_series({'values': '=Sheet1!F4:F90', 'name': '=Sheet1!F3', 'categories': '=Sheet1!$A$4:$A$90'})\n",
    "sheet.insert_chart('K20', chart)\n",
    "\n",
    "# Line Chart\n",
    "chart = book.add_chart({'type': 'line'})\n",
    "chart.add_series({'values': '=Sheet1!F4:F90', 'name': '=Sheet1!F3', 'categories': '=Sheet1!$A$4:$A$90'})\n",
    "chart.add_series({'values': '=Sheet1!G4:G90', 'name': '=Sheet1!G3'})\n",
    "chart.add_series({'values': '=Sheet1!H4:H90', 'name': '=Sheet1!H3'})\n",
    "chart.add_series({'values': '=Sheet1!I4:I90', 'name': '=Sheet1!I3'})\n",
    "sheet.insert_chart('S2', chart)\n",
    "\n",
    "# Area Chart\n",
    "chart = book.add_chart({'type': 'area'})\n",
    "chart.add_series({'values': '=Sheet1!A4:F90', 'name': '=Sheet1!B3', 'categories': '=Sheet1!$A$4:$A$90'})\n",
    "chart.add_series({'values': '=Sheet1!B4:G90', 'name': '=Sheet1!C3'})\n",
    "chart.add_series({'values': '=Sheet1!H4:H90', 'name': '=Sheet1!D3'})\n",
    "chart.add_series({'values': '=Sheet1!I4:I90', 'name': '=Sheet1!E3'})\n",
    "sheet.insert_chart('S20', chart)\n",
    "\n",
    "writer.save()"
   ]
  },
  {
   "cell_type": "code",
   "execution_count": null,
   "id": "fa1bafa2",
   "metadata": {},
   "outputs": [],
   "source": []
  }
 ],
 "metadata": {
  "kernelspec": {
   "display_name": "Python 3 (ipykernel)",
   "language": "python",
   "name": "python3"
  },
  "language_info": {
   "codemirror_mode": {
    "name": "ipython",
    "version": 3
   },
   "file_extension": ".py",
   "mimetype": "text/x-python",
   "name": "python",
   "nbconvert_exporter": "python",
   "pygments_lexer": "ipython3",
   "version": "3.9.13"
  }
 },
 "nbformat": 4,
 "nbformat_minor": 5
}
